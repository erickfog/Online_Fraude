{
 "cells": [
  {
   "cell_type": "markdown",
   "id": "a213b435",
   "metadata": {},
   "source": [
    "    \n",
    "    Análise Exploratória de Dados: Realizar uma análise exploratória dos dados disponíveis para entender a distribuição das transações, identificar padrões e detectar possíveis características distintivas das transações fraudulentas.\n",
    "\n",
    "    Pré-processamento dos Dados: Limpar e preparar os dados para o modelo de detecção de fraudes. Isso pode envolver o tratamento de valores ausentes, normalização de atributos numéricos, codificação de variáveis categóricas e balanceamento da distribuição das classes.\n",
    "\n",
    "    Seleção e Treinamento do Modelo: Selecionar o algoritmo de aprendizado de máquina mais adequado para o problema, como Random Forest, SVM ou redes neurais, e treinar o modelo usando os dados rotulados. O conjunto de dados rotulados consistirá em transações marcadas como legítimas ou fraudulentas com base em análises anteriores.\n",
    "\n",
    "    Avaliação do Modelo: Avaliar o desempenho do modelo usando métricas apropriadas, como precisão, recall, F1-score e curva ROC. Também é importante considerar a detecção de falsos positivos (transações legítimas classificadas erroneamente como fraudulentas) e falsos negativos (transações fraudulentas não detectadas).\n",
    "\n",
    "    Implantação e Monitoramento em Tempo Real: Implementar o modelo treinado em um ambiente de produção, integrando-o ao sistema de pagamentos online da empresa. Monitorar constantemente as transações em tempo real, atribuindo pontuações de risco e tomando ações adequadas com base nas decisões do modelo.\n",
    "    \n",
    "    Aprimoramento Contínuo: Realizar atualizações periódicas do modelo à medida que novos dados e padrões de fraude emergem. Refinar o modelo com técnicas de aprendizado contínuo e incorporar feedback dos especialistas em detecção de fraudes para melhorar a eficácia do sistema ao longo do tempo.\n",
    "    \n",
    "    \n",
    "    \n",
    "   Dataset: data/fraud.csv"
   ]
  },
  {
   "cell_type": "markdown",
   "id": "1be9627b",
   "metadata": {},
   "source": [
    "# Metadados"
   ]
  },
  {
   "cell_type": "markdown",
   "id": "e7052c9f",
   "metadata": {},
   "source": [
    "    passo: representa uma unidade de tempo onde 1 passo equivale a 1 hora\n",
    "\n",
    "    tipo: tipo de transação online\n",
    "\n",
    "    montante: o valor da transação\n",
    "\n",
    "    nameOrig: cliente iniciando a transação\n",
    "\n",
    "    oldbalanceOrg: saldo antes da transação\n",
    "\n",
    "    newbalanceOrig: saldo após a transação\n",
    "\n",
    "    nameDest: destinatário da transação\n",
    "\n",
    "    oldbalanceDest: saldo inicial do destinatário antes da transação\n",
    "\n",
    "    newbalanceDest: o novo saldo do destinatário após a transação\n",
    "\n",
    "    isFraud: transação fraudulenta"
   ]
  },
  {
   "cell_type": "markdown",
   "id": "afbfb0d6",
   "metadata": {
    "heading_collapsed": true
   },
   "source": [
    "# PASSO 00 IMPORTS"
   ]
  },
  {
   "cell_type": "code",
   "execution_count": 2,
   "id": "2b441f85",
   "metadata": {
    "ExecuteTime": {
     "end_time": "2024-02-14T23:38:08.618114Z",
     "start_time": "2024-02-14T23:38:07.731181Z"
    },
    "hidden": true
   },
   "outputs": [],
   "source": [
    "import math\n",
    "import pandas as pd\n",
    "import numpy  as np\n",
    "import inflection\n",
    "import requests\n",
    "import random\n",
    "import pickle\n",
    "import warnings\n",
    "import xgboost as xgb\n",
    "import seaborn as sns\n",
    "\n",
    "\n",
    "from boruta               import BorutaPy\n",
    "from scipy                import stats      as ss\n",
    "from matplotlib           import pyplot     as plt\n",
    "from IPython.core.display import HTML\n",
    "from IPython.display      import Image\n",
    "\n",
    "from sklearn.metrics import roc_auc_score, roc_curve, accuracy_score\n",
    "from sklearn.model_selection import train_test_split\n",
    "from sklearn.preprocessing import StandardScaler, MinMaxScaler, RobustScaler , LabelEncoder\n",
    "from sklearn.ensemble import RandomForestClassifier\n",
    "\n",
    "\n",
    "warnings.filterwarnings('ignore')"
   ]
  },
  {
   "cell_type": "code",
   "execution_count": 8,
   "id": "5752e02d",
   "metadata": {
    "ExecuteTime": {
     "end_time": "2024-02-14T23:39:11.688316Z",
     "start_time": "2024-02-14T23:39:05.352526Z"
    },
    "hidden": true
   },
   "outputs": [],
   "source": [
    "df_raw = pd.read_csv('data/fraud.csv')"
   ]
  },
  {
   "cell_type": "code",
   "execution_count": 9,
   "id": "9475cac8",
   "metadata": {
    "ExecuteTime": {
     "end_time": "2024-02-14T23:39:18.128921Z",
     "start_time": "2024-02-14T23:39:18.124747Z"
    },
    "hidden": true
   },
   "outputs": [
    {
     "data": {
      "text/plain": [
       "Index(['step', 'tipo', 'quantidade', 'nomeOrig', 'saldoAntigoOrig',\n",
       "       'novoSaldoOrig', 'nomeDest', 'saldoAntigoDest', 'novoSaldoDest',\n",
       "       'ehFraude', 'ehFraudeSinalizada'],\n",
       "      dtype='object')"
      ]
     },
     "execution_count": 9,
     "metadata": {},
     "output_type": "execute_result"
    }
   ],
   "source": [
    "df_raw.columns"
   ]
  },
  {
   "cell_type": "code",
   "execution_count": 10,
   "id": "42ade1a1",
   "metadata": {
    "ExecuteTime": {
     "end_time": "2024-02-14T23:40:06.545049Z",
     "start_time": "2024-02-14T23:40:06.542514Z"
    },
    "hidden": true
   },
   "outputs": [
    {
     "data": {
      "text/plain": [
       "(6362620, 11)"
      ]
     },
     "execution_count": 10,
     "metadata": {},
     "output_type": "execute_result"
    }
   ],
   "source": [
    "df_raw.shape"
   ]
  },
  {
   "cell_type": "markdown",
   "id": "f4ab616a",
   "metadata": {},
   "source": [
    "# PASSO 01 DATA DESCRIPTION"
   ]
  },
  {
   "cell_type": "markdown",
   "id": "53c7d04b",
   "metadata": {},
   "source": [
    "Nesta seção de data description vamos analisar alguns aspectos estruturais do nosso dataset. Vamos analisar se existe algum valor faltante, analisar se existem valores nulos, verificar os tipos das nossas variáveis, verificar a distribuição na nossa variável 'target' com objetivo de separar dados de treino e desde e não causar viéses na análise exploratória."
   ]
  },
  {
   "cell_type": "code",
   "execution_count": 16,
   "id": "faa7ba2f",
   "metadata": {
    "ExecuteTime": {
     "end_time": "2024-02-14T23:44:35.029153Z",
     "start_time": "2024-02-14T23:44:33.687798Z"
    }
   },
   "outputs": [
    {
     "data": {
      "text/plain": [
       "step                  0\n",
       "tipo                  0\n",
       "quantidade            0\n",
       "nomeOrig              0\n",
       "saldoAntigoOrig       0\n",
       "novoSaldoOrig         0\n",
       "nomeDest              0\n",
       "saldoAntigoDest       0\n",
       "novoSaldoDest         0\n",
       "ehFraude              0\n",
       "ehFraudeSinalizada    0\n",
       "dtype: int64"
      ]
     },
     "execution_count": 16,
     "metadata": {},
     "output_type": "execute_result"
    }
   ],
   "source": [
    "df_raw.isnull().sum()"
   ]
  },
  {
   "cell_type": "code",
   "execution_count": 17,
   "id": "cc7de134",
   "metadata": {
    "ExecuteTime": {
     "end_time": "2024-02-14T23:44:36.330722Z",
     "start_time": "2024-02-14T23:44:35.030541Z"
    }
   },
   "outputs": [
    {
     "data": {
      "text/plain": [
       "step                  0\n",
       "tipo                  0\n",
       "quantidade            0\n",
       "nomeOrig              0\n",
       "saldoAntigoOrig       0\n",
       "novoSaldoOrig         0\n",
       "nomeDest              0\n",
       "saldoAntigoDest       0\n",
       "novoSaldoDest         0\n",
       "ehFraude              0\n",
       "ehFraudeSinalizada    0\n",
       "dtype: int64"
      ]
     },
     "execution_count": 17,
     "metadata": {},
     "output_type": "execute_result"
    }
   ],
   "source": [
    "df_raw.isna().sum()"
   ]
  },
  {
   "cell_type": "code",
   "execution_count": 21,
   "id": "92e4f097",
   "metadata": {
    "ExecuteTime": {
     "end_time": "2024-02-14T23:48:34.075321Z",
     "start_time": "2024-02-14T23:48:34.072443Z"
    }
   },
   "outputs": [
    {
     "data": {
      "text/plain": [
       "step                    int64\n",
       "tipo                   object\n",
       "quantidade            float64\n",
       "nomeOrig               object\n",
       "saldoAntigoOrig       float64\n",
       "novoSaldoOrig         float64\n",
       "nomeDest               object\n",
       "saldoAntigoDest       float64\n",
       "novoSaldoDest         float64\n",
       "ehFraude                int64\n",
       "ehFraudeSinalizada      int64\n",
       "dtype: object"
      ]
     },
     "execution_count": 21,
     "metadata": {},
     "output_type": "execute_result"
    }
   ],
   "source": [
    "df_raw.dtypes"
   ]
  },
  {
   "cell_type": "code",
   "execution_count": 32,
   "id": "b0dbd42d",
   "metadata": {
    "ExecuteTime": {
     "end_time": "2024-02-14T23:51:55.492367Z",
     "start_time": "2024-02-14T23:51:55.490243Z"
    }
   },
   "outputs": [
    {
     "name": "stdout",
     "output_type": "stream",
     "text": [
      "Número de linhas é: 6362620\n",
      "Número de colunas é: 11\n"
     ]
    }
   ],
   "source": [
    "print('Número de linhas é: {}' .format(df_raw.shape[0]))\n",
    "print('Número de colunas é: {}' .format(df_raw.shape[1]))"
   ]
  },
  {
   "cell_type": "markdown",
   "id": "a643330e",
   "metadata": {},
   "source": [
    "# 1.2 Estatísticas Descritivas"
   ]
  },
  {
   "cell_type": "code",
   "execution_count": 34,
   "id": "035eefac",
   "metadata": {
    "ExecuteTime": {
     "end_time": "2024-02-15T00:11:44.076328Z",
     "start_time": "2024-02-15T00:11:43.715279Z"
    }
   },
   "outputs": [],
   "source": [
    "num_attributes = df_raw.select_dtypes(include=['int64' , 'float64'])\n",
    "cat_attributes = df_raw.select_dtypes(exclude=['int64' , 'float64'])"
   ]
  },
  {
   "cell_type": "markdown",
   "id": "ac969ba0",
   "metadata": {},
   "source": [
    "## 1.2.1 Variáveis Numéricas"
   ]
  },
  {
   "cell_type": "code",
   "execution_count": 35,
   "id": "b1be8945",
   "metadata": {
    "ExecuteTime": {
     "end_time": "2024-02-15T00:12:01.664465Z",
     "start_time": "2024-02-15T00:11:54.502446Z"
    }
   },
   "outputs": [
    {
     "data": {
      "text/html": [
       "<div>\n",
       "<style scoped>\n",
       "    .dataframe tbody tr th:only-of-type {\n",
       "        vertical-align: middle;\n",
       "    }\n",
       "\n",
       "    .dataframe tbody tr th {\n",
       "        vertical-align: top;\n",
       "    }\n",
       "\n",
       "    .dataframe thead th {\n",
       "        text-align: right;\n",
       "    }\n",
       "</style>\n",
       "<table border=\"1\" class=\"dataframe\">\n",
       "  <thead>\n",
       "    <tr style=\"text-align: right;\">\n",
       "      <th></th>\n",
       "      <th>attributes</th>\n",
       "      <th>min</th>\n",
       "      <th>max</th>\n",
       "      <th>range</th>\n",
       "      <th>mean</th>\n",
       "      <th>median</th>\n",
       "      <th>std</th>\n",
       "      <th>skew</th>\n",
       "      <th>kurtosis</th>\n",
       "    </tr>\n",
       "  </thead>\n",
       "  <tbody>\n",
       "    <tr>\n",
       "      <th>0</th>\n",
       "      <td>step</td>\n",
       "      <td>1.0</td>\n",
       "      <td>7.430000e+02</td>\n",
       "      <td>7.420000e+02</td>\n",
       "      <td>2.433972e+02</td>\n",
       "      <td>239.000</td>\n",
       "      <td>1.423320e+02</td>\n",
       "      <td>0.375177</td>\n",
       "      <td>0.329071</td>\n",
       "    </tr>\n",
       "    <tr>\n",
       "      <th>1</th>\n",
       "      <td>quantidade</td>\n",
       "      <td>0.0</td>\n",
       "      <td>9.244552e+07</td>\n",
       "      <td>9.244552e+07</td>\n",
       "      <td>1.798619e+05</td>\n",
       "      <td>74871.940</td>\n",
       "      <td>6.038582e+05</td>\n",
       "      <td>30.993949</td>\n",
       "      <td>1797.956705</td>\n",
       "    </tr>\n",
       "    <tr>\n",
       "      <th>2</th>\n",
       "      <td>saldoAntigoOrig</td>\n",
       "      <td>0.0</td>\n",
       "      <td>5.958504e+07</td>\n",
       "      <td>5.958504e+07</td>\n",
       "      <td>8.338831e+05</td>\n",
       "      <td>14208.000</td>\n",
       "      <td>2.888242e+06</td>\n",
       "      <td>5.249136</td>\n",
       "      <td>32.964879</td>\n",
       "    </tr>\n",
       "    <tr>\n",
       "      <th>3</th>\n",
       "      <td>novoSaldoOrig</td>\n",
       "      <td>0.0</td>\n",
       "      <td>4.958504e+07</td>\n",
       "      <td>4.958504e+07</td>\n",
       "      <td>8.551137e+05</td>\n",
       "      <td>0.000</td>\n",
       "      <td>2.924048e+06</td>\n",
       "      <td>5.176884</td>\n",
       "      <td>32.066985</td>\n",
       "    </tr>\n",
       "    <tr>\n",
       "      <th>4</th>\n",
       "      <td>saldoAntigoDest</td>\n",
       "      <td>0.0</td>\n",
       "      <td>3.560159e+08</td>\n",
       "      <td>3.560159e+08</td>\n",
       "      <td>1.100702e+06</td>\n",
       "      <td>132705.665</td>\n",
       "      <td>3.399180e+06</td>\n",
       "      <td>19.921758</td>\n",
       "      <td>948.674125</td>\n",
       "    </tr>\n",
       "    <tr>\n",
       "      <th>5</th>\n",
       "      <td>novoSaldoDest</td>\n",
       "      <td>0.0</td>\n",
       "      <td>3.561793e+08</td>\n",
       "      <td>3.561793e+08</td>\n",
       "      <td>1.224996e+06</td>\n",
       "      <td>214661.440</td>\n",
       "      <td>3.674129e+06</td>\n",
       "      <td>19.352302</td>\n",
       "      <td>862.156508</td>\n",
       "    </tr>\n",
       "    <tr>\n",
       "      <th>6</th>\n",
       "      <td>ehFraude</td>\n",
       "      <td>0.0</td>\n",
       "      <td>1.000000e+00</td>\n",
       "      <td>1.000000e+00</td>\n",
       "      <td>1.290820e-03</td>\n",
       "      <td>0.000</td>\n",
       "      <td>3.590479e-02</td>\n",
       "      <td>27.779538</td>\n",
       "      <td>769.702982</td>\n",
       "    </tr>\n",
       "    <tr>\n",
       "      <th>7</th>\n",
       "      <td>ehFraudeSinalizada</td>\n",
       "      <td>0.0</td>\n",
       "      <td>1.000000e+00</td>\n",
       "      <td>1.000000e+00</td>\n",
       "      <td>2.514687e-06</td>\n",
       "      <td>0.000</td>\n",
       "      <td>1.585775e-03</td>\n",
       "      <td>630.603629</td>\n",
       "      <td>397659.062500</td>\n",
       "    </tr>\n",
       "  </tbody>\n",
       "</table>\n",
       "</div>"
      ],
      "text/plain": [
       "           attributes  min           max         range          mean  \\\n",
       "0                step  1.0  7.430000e+02  7.420000e+02  2.433972e+02   \n",
       "1          quantidade  0.0  9.244552e+07  9.244552e+07  1.798619e+05   \n",
       "2     saldoAntigoOrig  0.0  5.958504e+07  5.958504e+07  8.338831e+05   \n",
       "3       novoSaldoOrig  0.0  4.958504e+07  4.958504e+07  8.551137e+05   \n",
       "4     saldoAntigoDest  0.0  3.560159e+08  3.560159e+08  1.100702e+06   \n",
       "5       novoSaldoDest  0.0  3.561793e+08  3.561793e+08  1.224996e+06   \n",
       "6            ehFraude  0.0  1.000000e+00  1.000000e+00  1.290820e-03   \n",
       "7  ehFraudeSinalizada  0.0  1.000000e+00  1.000000e+00  2.514687e-06   \n",
       "\n",
       "       median           std        skew       kurtosis  \n",
       "0     239.000  1.423320e+02    0.375177       0.329071  \n",
       "1   74871.940  6.038582e+05   30.993949    1797.956705  \n",
       "2   14208.000  2.888242e+06    5.249136      32.964879  \n",
       "3       0.000  2.924048e+06    5.176884      32.066985  \n",
       "4  132705.665  3.399180e+06   19.921758     948.674125  \n",
       "5  214661.440  3.674129e+06   19.352302     862.156508  \n",
       "6       0.000  3.590479e-02   27.779538     769.702982  \n",
       "7       0.000  1.585775e-03  630.603629  397659.062500  "
      ]
     },
     "execution_count": 35,
     "metadata": {},
     "output_type": "execute_result"
    }
   ],
   "source": [
    "#Central Tendency - mean , median\n",
    "ct1 = pd.DataFrame(num_attributes.apply(np.mean)).T\n",
    "ct2 = pd.DataFrame(num_attributes.apply(np.median)).T\n",
    "\n",
    "\n",
    "#Dispersion - std , min , max , range , skew , kurtosis\n",
    "d1 = pd.DataFrame( num_attributes.apply(np.std)).T\n",
    "d2 = pd.DataFrame( num_attributes.apply(min)).T\n",
    "d3 = pd.DataFrame( num_attributes.apply(max)).T\n",
    "d4 = pd.DataFrame( num_attributes.apply( lambda x: x.max() - x.min() ) ).T\n",
    "d5 = pd.DataFrame( num_attributes.apply( lambda x: x.skew())).T\n",
    "d6 = pd.DataFrame( num_attributes.apply( lambda x: x.kurtosis() ) ).T\n",
    "\n",
    "m = pd.concat([d2,d3,d4,ct1,ct2,d1,d5,d6]).T.reset_index()\n",
    "m.columns = ['attributes','min','max','range','mean','median','std','skew','kurtosis',]\n",
    "m"
   ]
  },
  {
   "cell_type": "markdown",
   "id": "8a7ddd2f",
   "metadata": {},
   "source": [
    "## 1.2.2 Variáveis Categoricas"
   ]
  },
  {
   "cell_type": "code",
   "execution_count": 37,
   "id": "b6671291",
   "metadata": {
    "ExecuteTime": {
     "end_time": "2024-02-15T00:14:06.420702Z",
     "start_time": "2024-02-15T00:14:03.508219Z"
    }
   },
   "outputs": [
    {
     "data": {
      "text/plain": [
       "tipo              5\n",
       "nomeOrig    6353307\n",
       "nomeDest    2722362\n",
       "dtype: int64"
      ]
     },
     "execution_count": 37,
     "metadata": {},
     "output_type": "execute_result"
    }
   ],
   "source": [
    "cat_attributes.apply( lambda x: x.unique().shape[0])"
   ]
  },
  {
   "cell_type": "code",
   "execution_count": 44,
   "id": "d80f4a9b",
   "metadata": {
    "ExecuteTime": {
     "end_time": "2024-02-15T00:23:49.596076Z",
     "start_time": "2024-02-15T00:23:49.400997Z"
    }
   },
   "outputs": [
    {
     "data": {
      "text/plain": [
       "CASH_OUT    2237500\n",
       "PAYMENT     2151495\n",
       "CASH_IN     1399284\n",
       "TRANSFER     532909\n",
       "DEBIT         41432\n",
       "Name: tipo, dtype: int64"
      ]
     },
     "execution_count": 44,
     "metadata": {},
     "output_type": "execute_result"
    }
   ],
   "source": [
    "df_raw.tipo.value_counts()"
   ]
  },
  {
   "cell_type": "code",
   "execution_count": 43,
   "id": "de04e40e",
   "metadata": {
    "ExecuteTime": {
     "end_time": "2024-02-15T00:23:13.361895Z",
     "start_time": "2024-02-15T00:23:11.622788Z"
    }
   },
   "outputs": [
    {
     "data": {
      "text/plain": [
       "<Axes: xlabel='tipo', ylabel='count'>"
      ]
     },
     "execution_count": 43,
     "metadata": {},
     "output_type": "execute_result"
    },
    {
     "data": {
      "image/png": "[encoded data removed]",
      "text/plain": [
       "<Figure size 432x288 with 1 Axes>"
      ]
     },
     "metadata": {
      "needs_background": "light"
     },
     "output_type": "display_data"
    }
   ],
   "source": [
    "sns.countplot(df_raw, x='tipo')"
   ]
  },
  {
   "cell_type": "code",
   "execution_count": 19,
   "id": "af8fef86",
   "metadata": {
    "ExecuteTime": {
     "end_time": "2024-02-14T23:46:54.856121Z",
     "start_time": "2024-02-14T23:46:54.799195Z"
    }
   },
   "outputs": [
    {
     "data": {
      "text/plain": [
       "0    6354407\n",
       "1       8213\n",
       "Name: ehFraude, dtype: int64"
      ]
     },
     "execution_count": 19,
     "metadata": {},
     "output_type": "execute_result"
    }
   ],
   "source": [
    "df_raw.ehFraude.value_counts()"
   ]
  },
  {
   "cell_type": "code",
   "execution_count": 52,
   "id": "bbba84e4",
   "metadata": {
    "ExecuteTime": {
     "end_time": "2024-02-15T00:27:08.610911Z",
     "start_time": "2024-02-15T00:27:08.295687Z"
    }
   },
   "outputs": [
    {
     "data": {
      "text/plain": [
       "<Axes: xlabel='ehFraude', ylabel='count'>"
      ]
     },
     "execution_count": 52,
     "metadata": {},
     "output_type": "execute_result"
    },
    {
     "data": {
      "image/png": "[encoded data removed]",
      "text/plain": [
       "<Figure size 432x288 with 1 Axes>"
      ]
     },
     "metadata": {
      "needs_background": "light"
     },
     "output_type": "display_data"
    }
   ],
   "source": [
    "sns.countplot(df_raw,x='ehFraude')"
   ]
  },
  {
   "cell_type": "code",
   "execution_count": 63,
   "id": "3a2f8bae",
   "metadata": {
    "ExecuteTime": {
     "end_time": "2024-02-15T00:43:44.591658Z",
     "start_time": "2024-02-15T00:43:44.468527Z"
    }
   },
   "outputs": [
    {
     "data": {
      "image/png": "[encoded data removed]",
      "text/plain": [
       "<Figure size 576x432 with 1 Axes>"
      ]
     },
     "metadata": {
      "needs_background": "light"
     },
     "output_type": "display_data"
    },
    {
     "data": {
      "text/plain": [
       "0    99.870918\n",
       "1     0.129082\n",
       "Name: ehFraude, dtype: float64"
      ]
     },
     "execution_count": 63,
     "metadata": {},
     "output_type": "execute_result"
    }
   ],
   "source": [
    "percentages = df_raw['ehFraude'].value_counts(normalize=True) * 100\n",
    "\n",
    "# Plotando o gráfico\n",
    "plt.figure(figsize=(8, 6))\n",
    "sns.barplot(x=percentages.index, y=percentages.values)\n",
    "plt.title('Porcentagem de Fraude')\n",
    "plt.xlabel('Fraude')\n",
    "plt.ylabel('Porcentagem')\n",
    "plt.show()\n",
    "\n",
    "percentages"
   ]
  },
  {
   "cell_type": "code",
   "execution_count": 47,
   "id": "1fbad9ad",
   "metadata": {
    "ExecuteTime": {
     "end_time": "2024-02-15T00:25:20.228681Z",
     "start_time": "2024-02-15T00:25:20.202113Z"
    }
   },
   "outputs": [
    {
     "data": {
      "text/plain": [
       "0    6362604\n",
       "1         16\n",
       "Name: ehFraudeSinalizada, dtype: int64"
      ]
     },
     "execution_count": 47,
     "metadata": {},
     "output_type": "execute_result"
    }
   ],
   "source": [
    "df_raw.ehFraudeSinalizada.value_counts()"
   ]
  },
  {
   "cell_type": "code",
   "execution_count": 50,
   "id": "99c9bdbc",
   "metadata": {
    "ExecuteTime": {
     "end_time": "2024-02-15T00:26:03.449865Z",
     "start_time": "2024-02-15T00:26:03.136249Z"
    }
   },
   "outputs": [
    {
     "data": {
      "text/plain": [
       "<Axes: xlabel='ehFraudeSinalizada', ylabel='count'>"
      ]
     },
     "execution_count": 50,
     "metadata": {},
     "output_type": "execute_result"
    },
    {
     "data": {
      "image/png": "[encoded data removed]",
      "text/plain": [
       "<Figure size 432x288 with 1 Axes>"
      ]
     },
     "metadata": {
      "needs_background": "light"
     },
     "output_type": "display_data"
    }
   ],
   "source": [
    "sns.countplot(df_raw,x='ehFraudeSinalizada')"
   ]
  },
  {
   "cell_type": "code",
   "execution_count": 62,
   "id": "9e2f3217",
   "metadata": {
    "ExecuteTime": {
     "end_time": "2024-02-15T00:43:27.655585Z",
     "start_time": "2024-02-15T00:43:27.626537Z"
    }
   },
   "outputs": [
    {
     "ename": "KeyError",
     "evalue": "'ehFraudeSinalizada'",
     "output_type": "error",
     "traceback": [
      "\u001b[0;31m---------------------------------------------------------------------------\u001b[0m",
      "\u001b[0;31mKeyError\u001b[0m                                  Traceback (most recent call last)",
      "\u001b[0;32m~/.local/lib/python3.10/site-packages/pandas/core/indexes/base.py\u001b[0m in \u001b[0;36mget_loc\u001b[0;34m(self, key, method, tolerance)\u001b[0m\n\u001b[1;32m   3802\u001b[0m             \u001b[0;32mtry\u001b[0m\u001b[0;34m:\u001b[0m\u001b[0;34m\u001b[0m\u001b[0;34m\u001b[0m\u001b[0m\n\u001b[0;32m-> 3803\u001b[0;31m                 \u001b[0;32mreturn\u001b[0m \u001b[0mself\u001b[0m\u001b[0;34m.\u001b[0m\u001b[0m_engine\u001b[0m\u001b[0;34m.\u001b[0m\u001b[0mget_loc\u001b[0m\u001b[0;34m(\u001b[0m\u001b[0mcasted_key\u001b[0m\u001b[0;34m)\u001b[0m\u001b[0;34m\u001b[0m\u001b[0;34m\u001b[0m\u001b[0m\n\u001b[0m\u001b[1;32m   3804\u001b[0m             \u001b[0;32mexcept\u001b[0m \u001b[0mKeyError\u001b[0m \u001b[0;32mas\u001b[0m \u001b[0merr\u001b[0m\u001b[0;34m:\u001b[0m\u001b[0;34m\u001b[0m\u001b[0;34m\u001b[0m\u001b[0m\n",
      "\u001b[0;32m~/.local/lib/python3.10/site-packages/pandas/_libs/index.pyx\u001b[0m in \u001b[0;36mpandas._libs.index.IndexEngine.get_loc\u001b[0;34m()\u001b[0m\n",
      "\u001b[0;32m~/.local/lib/python3.10/site-packages/pandas/_libs/index.pyx\u001b[0m in \u001b[0;36mpandas._libs.index.IndexEngine.get_loc\u001b[0;34m()\u001b[0m\n",
      "\u001b[0;32mpandas/_libs/hashtable_class_helper.pxi\u001b[0m in \u001b[0;36mpandas._libs.hashtable.PyObjectHashTable.get_item\u001b[0;34m()\u001b[0m\n",
      "\u001b[0;32mpandas/_libs/hashtable_class_helper.pxi\u001b[0m in \u001b[0;36mpandas._libs.hashtable.PyObjectHashTable.get_item\u001b[0;34m()\u001b[0m\n",
      "\u001b[0;31mKeyError\u001b[0m: 'ehFraudeSinalizada'",
      "\nThe above exception was the direct cause of the following exception:\n",
      "\u001b[0;31mKeyError\u001b[0m                                  Traceback (most recent call last)",
      "\u001b[0;32m/tmp/ipykernel_21804/13140011.py\u001b[0m in \u001b[0;36m<module>\u001b[0;34m\u001b[0m\n\u001b[0;32m----> 1\u001b[0;31m \u001b[0mpercentages\u001b[0m \u001b[0;34m=\u001b[0m \u001b[0mdf_raw\u001b[0m\u001b[0;34m[\u001b[0m\u001b[0;34m'ehFraudeSinalizada'\u001b[0m\u001b[0;34m]\u001b[0m\u001b[0;34m.\u001b[0m\u001b[0mvalue_counts\u001b[0m\u001b[0;34m(\u001b[0m\u001b[0mnormalize\u001b[0m\u001b[0;34m=\u001b[0m\u001b[0;32mTrue\u001b[0m\u001b[0;34m)\u001b[0m \u001b[0;34m*\u001b[0m \u001b[0;36m100\u001b[0m\u001b[0;34m\u001b[0m\u001b[0;34m\u001b[0m\u001b[0m\n\u001b[0m\u001b[1;32m      2\u001b[0m \u001b[0;34m\u001b[0m\u001b[0m\n\u001b[1;32m      3\u001b[0m \u001b[0;31m# Plotando o gráfico\u001b[0m\u001b[0;34m\u001b[0m\u001b[0;34m\u001b[0m\u001b[0m\n\u001b[1;32m      4\u001b[0m \u001b[0mplt\u001b[0m\u001b[0;34m.\u001b[0m\u001b[0mfigure\u001b[0m\u001b[0;34m(\u001b[0m\u001b[0mfigsize\u001b[0m\u001b[0;34m=\u001b[0m\u001b[0;34m(\u001b[0m\u001b[0;36m8\u001b[0m\u001b[0;34m,\u001b[0m \u001b[0;36m6\u001b[0m\u001b[0;34m)\u001b[0m\u001b[0;34m)\u001b[0m\u001b[0;34m\u001b[0m\u001b[0;34m\u001b[0m\u001b[0m\n\u001b[1;32m      5\u001b[0m \u001b[0msns\u001b[0m\u001b[0;34m.\u001b[0m\u001b[0mbarplot\u001b[0m\u001b[0;34m(\u001b[0m\u001b[0mx\u001b[0m\u001b[0;34m=\u001b[0m\u001b[0mpercentages\u001b[0m\u001b[0;34m.\u001b[0m\u001b[0mindex\u001b[0m\u001b[0;34m,\u001b[0m \u001b[0my\u001b[0m\u001b[0;34m=\u001b[0m\u001b[0mpercentages\u001b[0m\u001b[0;34m.\u001b[0m\u001b[0mvalues\u001b[0m\u001b[0;34m,\u001b[0m \u001b[0mpalette\u001b[0m\u001b[0;34m=\u001b[0m\u001b[0;34m'Set2'\u001b[0m\u001b[0;34m)\u001b[0m\u001b[0;34m\u001b[0m\u001b[0;34m\u001b[0m\u001b[0m\n",
      "\u001b[0;32m~/.local/lib/python3.10/site-packages/pandas/core/frame.py\u001b[0m in \u001b[0;36m__getitem__\u001b[0;34m(self, key)\u001b[0m\n\u001b[1;32m   3803\u001b[0m             \u001b[0;32mif\u001b[0m \u001b[0mself\u001b[0m\u001b[0;34m.\u001b[0m\u001b[0mcolumns\u001b[0m\u001b[0;34m.\u001b[0m\u001b[0mnlevels\u001b[0m \u001b[0;34m>\u001b[0m \u001b[0;36m1\u001b[0m\u001b[0;34m:\u001b[0m\u001b[0;34m\u001b[0m\u001b[0;34m\u001b[0m\u001b[0m\n\u001b[1;32m   3804\u001b[0m                 \u001b[0;32mreturn\u001b[0m \u001b[0mself\u001b[0m\u001b[0;34m.\u001b[0m\u001b[0m_getitem_multilevel\u001b[0m\u001b[0;34m(\u001b[0m\u001b[0mkey\u001b[0m\u001b[0;34m)\u001b[0m\u001b[0;34m\u001b[0m\u001b[0;34m\u001b[0m\u001b[0m\n\u001b[0;32m-> 3805\u001b[0;31m             \u001b[0mindexer\u001b[0m \u001b[0;34m=\u001b[0m \u001b[0mself\u001b[0m\u001b[0;34m.\u001b[0m\u001b[0mcolumns\u001b[0m\u001b[0;34m.\u001b[0m\u001b[0mget_loc\u001b[0m\u001b[0;34m(\u001b[0m\u001b[0mkey\u001b[0m\u001b[0;34m)\u001b[0m\u001b[0;34m\u001b[0m\u001b[0;34m\u001b[0m\u001b[0m\n\u001b[0m\u001b[1;32m   3806\u001b[0m             \u001b[0;32mif\u001b[0m \u001b[0mis_integer\u001b[0m\u001b[0;34m(\u001b[0m\u001b[0mindexer\u001b[0m\u001b[0;34m)\u001b[0m\u001b[0;34m:\u001b[0m\u001b[0;34m\u001b[0m\u001b[0;34m\u001b[0m\u001b[0m\n\u001b[1;32m   3807\u001b[0m                 \u001b[0mindexer\u001b[0m \u001b[0;34m=\u001b[0m \u001b[0;34m[\u001b[0m\u001b[0mindexer\u001b[0m\u001b[0;34m]\u001b[0m\u001b[0;34m\u001b[0m\u001b[0;34m\u001b[0m\u001b[0m\n",
      "\u001b[0;32m~/.local/lib/python3.10/site-packages/pandas/core/indexes/base.py\u001b[0m in \u001b[0;36mget_loc\u001b[0;34m(self, key, method, tolerance)\u001b[0m\n\u001b[1;32m   3803\u001b[0m                 \u001b[0;32mreturn\u001b[0m \u001b[0mself\u001b[0m\u001b[0;34m.\u001b[0m\u001b[0m_engine\u001b[0m\u001b[0;34m.\u001b[0m\u001b[0mget_loc\u001b[0m\u001b[0;34m(\u001b[0m\u001b[0mcasted_key\u001b[0m\u001b[0;34m)\u001b[0m\u001b[0;34m\u001b[0m\u001b[0;34m\u001b[0m\u001b[0m\n\u001b[1;32m   3804\u001b[0m             \u001b[0;32mexcept\u001b[0m \u001b[0mKeyError\u001b[0m \u001b[0;32mas\u001b[0m \u001b[0merr\u001b[0m\u001b[0;34m:\u001b[0m\u001b[0;34m\u001b[0m\u001b[0;34m\u001b[0m\u001b[0m\n\u001b[0;32m-> 3805\u001b[0;31m                 \u001b[0;32mraise\u001b[0m \u001b[0mKeyError\u001b[0m\u001b[0;34m(\u001b[0m\u001b[0mkey\u001b[0m\u001b[0;34m)\u001b[0m \u001b[0;32mfrom\u001b[0m \u001b[0merr\u001b[0m\u001b[0;34m\u001b[0m\u001b[0;34m\u001b[0m\u001b[0m\n\u001b[0m\u001b[1;32m   3806\u001b[0m             \u001b[0;32mexcept\u001b[0m \u001b[0mTypeError\u001b[0m\u001b[0;34m:\u001b[0m\u001b[0;34m\u001b[0m\u001b[0;34m\u001b[0m\u001b[0m\n\u001b[1;32m   3807\u001b[0m                 \u001b[0;31m# If we have a listlike key, _check_indexing_error will raise\u001b[0m\u001b[0;34m\u001b[0m\u001b[0;34m\u001b[0m\u001b[0m\n",
      "\u001b[0;31mKeyError\u001b[0m: 'ehFraudeSinalizada'"
     ]
    }
   ],
   "source": [
    "percentages = df_raw['ehFraudeSinalizada'].value_counts(normalize=True) * 100\n",
    "\n",
    "# Plotando o gráfico\n",
    "plt.figure(figsize=(8, 6))\n",
    "sns.barplot(x=percentages.index, y=percentages.values, palette='Set2')\n",
    "plt.title('Porcentagem de Fraude')\n",
    "plt.xlabel('Fraude')\n",
    "plt.ylabel('Porcentagem')\n",
    "plt.show()\n"
   ]
  },
  {
   "cell_type": "markdown",
   "id": "aa3aab57",
   "metadata": {},
   "source": [
    "Sendo o número de fraudes sinalizadas extremamente baixo quando comparado ao número de transações que não são fraude, vamos eliminar essa variável do nosso dataframe. Ficaremos apenas com a variável targe de 'ehFraude'. Um problema que desde já devemos nos preocupar é o problema de desbalanceamento de classe. Note que temos muitos mais transações marcadas como normais do que fraudulentas, logo durante a construção de um modelo de ML para prever essas transações, devemos olhar para diferentes métricas de avaliação. A acaurácia sozinha não é uma boa métrica pois o algoritmo pode estar apenas acertando as transações que são normais e a acurácia(VP+VN)/(VP+VN+FP+FN) será alta. Outra métrica que não deve ser vista sozinha é a precisão pois sendo ela a relação entre (VP/VP+FP) corremos o risco de treinar um algoritmo que identifique muito bem as verdadeiras fraudes, porém com custo de inferir que muitas transações normais sejam consideras fraudulentas. Logo, as métricas devem ser olhadas em conjunto dando importância para análise do F1-score e análise da curva de precision-recall. "
   ]
  },
  {
   "cell_type": "markdown",
   "id": "029a6882",
   "metadata": {},
   "source": [
    "Antes de seguirmos, irei fazer uma divisão estratificada dos dado com intuito de validar o modelo e fazer o controle de overfiting. Vamos dividir os dados na proporção 80(continuidade da modelagem) 20(validação do modelo). Não estamos separando dados para teste ainda, estamos apenas separando uma amostra para validação do modelo. "
   ]
  },
  {
   "cell_type": "code",
   "execution_count": 59,
   "id": "54a8fd02",
   "metadata": {
    "ExecuteTime": {
     "end_time": "2024-02-15T00:41:41.557686Z",
     "start_time": "2024-02-15T00:41:41.231348Z"
    }
   },
   "outputs": [
    {
     "data": {
      "text/html": [
       "<div>\n",
       "<style scoped>\n",
       "    .dataframe tbody tr th:only-of-type {\n",
       "        vertical-align: middle;\n",
       "    }\n",
       "\n",
       "    .dataframe tbody tr th {\n",
       "        vertical-align: top;\n",
       "    }\n",
       "\n",
       "    .dataframe thead th {\n",
       "        text-align: right;\n",
       "    }\n",
       "</style>\n",
       "<table border=\"1\" class=\"dataframe\">\n",
       "  <thead>\n",
       "    <tr style=\"text-align: right;\">\n",
       "      <th></th>\n",
       "      <th>step</th>\n",
       "      <th>tipo</th>\n",
       "      <th>quantidade</th>\n",
       "      <th>nomeOrig</th>\n",
       "      <th>saldoAntigoOrig</th>\n",
       "      <th>novoSaldoOrig</th>\n",
       "      <th>nomeDest</th>\n",
       "      <th>saldoAntigoDest</th>\n",
       "      <th>novoSaldoDest</th>\n",
       "      <th>ehFraude</th>\n",
       "    </tr>\n",
       "  </thead>\n",
       "  <tbody>\n",
       "    <tr>\n",
       "      <th>0</th>\n",
       "      <td>1</td>\n",
       "      <td>PAYMENT</td>\n",
       "      <td>9839.64</td>\n",
       "      <td>C1231006815</td>\n",
       "      <td>170136.0</td>\n",
       "      <td>160296.36</td>\n",
       "      <td>M1979787155</td>\n",
       "      <td>0.0</td>\n",
       "      <td>0.0</td>\n",
       "      <td>0</td>\n",
       "    </tr>\n",
       "    <tr>\n",
       "      <th>1</th>\n",
       "      <td>1</td>\n",
       "      <td>PAYMENT</td>\n",
       "      <td>1864.28</td>\n",
       "      <td>C1666544295</td>\n",
       "      <td>21249.0</td>\n",
       "      <td>19384.72</td>\n",
       "      <td>M2044282225</td>\n",
       "      <td>0.0</td>\n",
       "      <td>0.0</td>\n",
       "      <td>0</td>\n",
       "    </tr>\n",
       "    <tr>\n",
       "      <th>2</th>\n",
       "      <td>1</td>\n",
       "      <td>TRANSFER</td>\n",
       "      <td>181.00</td>\n",
       "      <td>C1305486145</td>\n",
       "      <td>181.0</td>\n",
       "      <td>0.00</td>\n",
       "      <td>C553264065</td>\n",
       "      <td>0.0</td>\n",
       "      <td>0.0</td>\n",
       "      <td>1</td>\n",
       "    </tr>\n",
       "    <tr>\n",
       "      <th>3</th>\n",
       "      <td>1</td>\n",
       "      <td>CASH_OUT</td>\n",
       "      <td>181.00</td>\n",
       "      <td>C840083671</td>\n",
       "      <td>181.0</td>\n",
       "      <td>0.00</td>\n",
       "      <td>C38997010</td>\n",
       "      <td>21182.0</td>\n",
       "      <td>0.0</td>\n",
       "      <td>1</td>\n",
       "    </tr>\n",
       "    <tr>\n",
       "      <th>4</th>\n",
       "      <td>1</td>\n",
       "      <td>PAYMENT</td>\n",
       "      <td>11668.14</td>\n",
       "      <td>C2048537720</td>\n",
       "      <td>41554.0</td>\n",
       "      <td>29885.86</td>\n",
       "      <td>M1230701703</td>\n",
       "      <td>0.0</td>\n",
       "      <td>0.0</td>\n",
       "      <td>0</td>\n",
       "    </tr>\n",
       "  </tbody>\n",
       "</table>\n",
       "</div>"
      ],
      "text/plain": [
       "   step      tipo  quantidade     nomeOrig  saldoAntigoOrig  novoSaldoOrig  \\\n",
       "0     1   PAYMENT     9839.64  C1231006815         170136.0      160296.36   \n",
       "1     1   PAYMENT     1864.28  C1666544295          21249.0       19384.72   \n",
       "2     1  TRANSFER      181.00  C1305486145            181.0           0.00   \n",
       "3     1  CASH_OUT      181.00   C840083671            181.0           0.00   \n",
       "4     1   PAYMENT    11668.14  C2048537720          41554.0       29885.86   \n",
       "\n",
       "      nomeDest  saldoAntigoDest  novoSaldoDest  ehFraude  \n",
       "0  M1979787155              0.0            0.0         0  \n",
       "1  M2044282225              0.0            0.0         0  \n",
       "2   C553264065              0.0            0.0         1  \n",
       "3    C38997010          21182.0            0.0         1  \n",
       "4  M1230701703              0.0            0.0         0  "
      ]
     },
     "execution_count": 59,
     "metadata": {},
     "output_type": "execute_result"
    }
   ],
   "source": [
    "df_raw.drop(['ehFraudeSinalizada'], axis=1,inplace=True)\n",
    "df_raw.head()"
   ]
  },
  {
   "cell_type": "code",
   "execution_count": 68,
   "id": "54f52abf",
   "metadata": {
    "ExecuteTime": {
     "end_time": "2024-02-15T00:50:52.933916Z",
     "start_time": "2024-02-15T00:50:48.777524Z"
    }
   },
   "outputs": [
    {
     "name": "stdout",
     "output_type": "stream",
     "text": [
      "Proporção de fraudes no conjunto de treinamento: 0    99.870926\n",
      "1     0.129074\n",
      "Name: ehFraude, dtype: float64\n",
      "Proporção de fraudes no conjunto de validação: 0    99.870887\n",
      "1     0.129113\n",
      "Name: ehFraude, dtype: float64\n"
     ]
    }
   ],
   "source": [
    "# Divisão estratificada\n",
    "train_data, val_data = train_test_split(df_raw, test_size=0.2, stratify=df_raw['ehFraude'], random_state=42)\n",
    "\n",
    "# Verificando as proporções\n",
    "print(\"Proporção de fraudes no conjunto de treinamento:\", train_data['ehFraude'].value_counts(normalize=True)*100)\n",
    "print(\"Proporção de fraudes no conjunto de validação:\", val_data['ehFraude'].value_counts(normalize=True)*100)"
   ]
  },
  {
   "cell_type": "markdown",
   "id": "a170a045",
   "metadata": {},
   "source": [
    "Temos a mesma proporção no conjunto que usaremos para treino e mesma proporção no conjunto que usaremos para validar."
   ]
  },
  {
   "cell_type": "markdown",
   "id": "453f8369",
   "metadata": {},
   "source": [
    "# PASSO 03 Exploratory Data Analysis (EDA)"
   ]
  },
  {
   "cell_type": "markdown",
   "id": "34dc661d",
   "metadata": {},
   "source": [
    "Vamos fazer a EDA apenas nos dados separados para Treino. "
   ]
  },
  {
   "cell_type": "markdown",
   "id": "9e90cb06",
   "metadata": {},
   "source": [
    "# 3.1 Análise univariada"
   ]
  },
  {
   "cell_type": "code",
   "execution_count": 85,
   "id": "69b80b89",
   "metadata": {
    "ExecuteTime": {
     "end_time": "2024-02-15T01:02:18.402413Z",
     "start_time": "2024-02-15T01:02:18.399383Z"
    }
   },
   "outputs": [
    {
     "data": {
      "text/plain": [
       "Index(['step', 'tipo', 'quantidade', 'nomeOrig', 'saldoAntigoOrig',\n",
       "       'novoSaldoOrig', 'nomeDest', 'saldoAntigoDest', 'novoSaldoDest',\n",
       "       'ehFraude'],\n",
       "      dtype='object')"
      ]
     },
     "execution_count": 85,
     "metadata": {},
     "output_type": "execute_result"
    }
   ],
   "source": [
    "train_data.columns"
   ]
  },
  {
   "cell_type": "code",
   "execution_count": 73,
   "id": "581b4764",
   "metadata": {
    "ExecuteTime": {
     "end_time": "2024-02-15T00:55:53.166602Z",
     "start_time": "2024-02-15T00:55:51.860797Z"
    }
   },
   "outputs": [
    {
     "data": {
      "text/plain": [
       "<Axes: xlabel='tipo', ylabel='count'>"
      ]
     },
     "execution_count": 73,
     "metadata": {},
     "output_type": "execute_result"
    },
    {
     "data": {
      "image/png": "[encoded data removed]",
      "text/plain": [
       "<Figure size 432x288 with 1 Axes>"
      ]
     },
     "metadata": {
      "needs_background": "light"
     },
     "output_type": "display_data"
    }
   ],
   "source": [
    "sns.countplot(train_data,x='tipo')"
   ]
  },
  {
   "cell_type": "code",
   "execution_count": 88,
   "id": "13d53564",
   "metadata": {
    "ExecuteTime": {
     "end_time": "2024-02-15T01:03:40.467232Z",
     "start_time": "2024-02-15T01:03:27.606789Z"
    }
   },
   "outputs": [
    {
     "data": {
      "image/png": "[encoded data removed]",
      "text/plain": [
       "<Figure size 432x288 with 1 Axes>"
      ]
     },
     "metadata": {
      "needs_background": "light"
     },
     "output_type": "display_data"
    }
   ],
   "source": [
    "sns.distplot(train_data['step']);"
   ]
  },
  {
   "cell_type": "code",
   "execution_count": 86,
   "id": "7ff9514d",
   "metadata": {
    "ExecuteTime": {
     "end_time": "2024-02-15T01:02:43.756984Z",
     "start_time": "2024-02-15T01:02:31.940385Z"
    }
   },
   "outputs": [
    {
     "data": {
      "image/png": "[encoded data removed]",
      "text/plain": [
       "<Figure size 432x288 with 1 Axes>"
      ]
     },
     "metadata": {
      "needs_background": "light"
     },
     "output_type": "display_data"
    }
   ],
   "source": [
    "sns.kdeplot(train_data['quantidade']);"
   ]
  },
  {
   "cell_type": "code",
   "execution_count": 91,
   "id": "e286085b",
   "metadata": {
    "ExecuteTime": {
     "end_time": "2024-02-15T01:07:03.138895Z",
     "start_time": "2024-02-15T01:06:40.671484Z"
    }
   },
   "outputs": [
    {
     "data": {
      "image/png": "[encoded data removed]",
      "text/plain": [
       "<Figure size 432x288 with 2 Axes>"
      ]
     },
     "metadata": {
      "needs_background": "light"
     },
     "output_type": "display_data"
    }
   ],
   "source": [
    "plt.subplot(1,2,1)\n",
    "sns.distplot(train_data['saldoAntigoOrig']);\n",
    "plt.subplot(2,2,2)\n",
    "sns.distplot(train_data['novoSaldoDest']);"
   ]
  },
  {
   "cell_type": "markdown",
   "id": "807b50a4",
   "metadata": {},
   "source": [
    "# 3.2 Análise Bivariada"
   ]
  },
  {
   "cell_type": "markdown",
   "id": "9a3cc556",
   "metadata": {},
   "source": [
    "# 3.3 Análise Multivariada"
   ]
  },
  {
   "cell_type": "markdown",
   "id": "d37f0e38",
   "metadata": {
    "heading_collapsed": true
   },
   "source": [
    "# PASSO 03 Variable Filtering"
   ]
  },
  {
   "cell_type": "markdown",
   "id": "08995a97",
   "metadata": {
    "hidden": true
   },
   "source": []
  },
  {
   "cell_type": "markdown",
   "id": "f428856d",
   "metadata": {
    "hidden": true
   },
   "source": [
    "## 4.1 Univariate Analysis"
   ]
  },
  {
   "cell_type": "markdown",
   "id": "7efb772e",
   "metadata": {
    "hidden": true
   },
   "source": [
    "## 4.2 Biavariate Analysis"
   ]
  },
  {
   "cell_type": "markdown",
   "id": "b8d3e53e",
   "metadata": {
    "hidden": true
   },
   "source": [
    "## 4.2 Multivariate Analysis"
   ]
  },
  {
   "cell_type": "markdown",
   "id": "a0e92788",
   "metadata": {
    "heading_collapsed": true
   },
   "source": [
    "# PASSO 05 Data Preparation"
   ]
  },
  {
   "cell_type": "markdown",
   "id": "b35c38b2",
   "metadata": {
    "hidden": true
   },
   "source": [
    "## 5.1 Normalization"
   ]
  },
  {
   "cell_type": "markdown",
   "id": "891c7980",
   "metadata": {
    "hidden": true
   },
   "source": [
    "## 5.2 Rescaling"
   ]
  },
  {
   "cell_type": "markdown",
   "id": "169fee79",
   "metadata": {
    "hidden": true
   },
   "source": [
    "## 5.3 Transaformation"
   ]
  },
  {
   "cell_type": "code",
   "execution_count": 52,
   "id": "0539dfca",
   "metadata": {
    "ExecuteTime": {
     "end_time": "2023-04-28T19:35:07.969917Z",
     "start_time": "2023-04-28T19:35:07.706951Z"
    },
    "hidden": true
   },
   "outputs": [
    {
     "data": {
      "text/plain": [
       "array(['PAYMENT', 'TRANSFER', 'CASH_OUT', 'DEBIT', 'CASH_IN'],\n",
       "      dtype=object)"
      ]
     },
     "execution_count": 52,
     "metadata": {},
     "output_type": "execute_result"
    }
   ],
   "source": [
    "df_raw.type.unique()"
   ]
  },
  {
   "cell_type": "code",
   "execution_count": 53,
   "id": "1e070d26",
   "metadata": {
    "ExecuteTime": {
     "end_time": "2023-04-28T19:35:08.490466Z",
     "start_time": "2023-04-28T19:35:07.971416Z"
    },
    "hidden": true
   },
   "outputs": [],
   "source": [
    "df_raw[\"type\"] = df_raw[\"type\"].map({\"CASH_OUT\": 1, \"PAYMENT\": 2, \n",
    "                                 \"CASH_IN\": 3, \"TRANSFER\": 4,\n",
    "                                 \"DEBIT\": 5})\n",
    "df_raw[\"isFraud\"] = df_raw[\"isFraud\"].map({0: \"No Fraud\", 1: \"Fraud\"})"
   ]
  },
  {
   "cell_type": "code",
   "execution_count": 54,
   "id": "e02be60b",
   "metadata": {
    "ExecuteTime": {
     "end_time": "2023-04-28T19:35:10.378024Z",
     "start_time": "2023-04-28T19:35:08.491482Z"
    },
    "hidden": true
   },
   "outputs": [
    {
     "data": {
      "text/plain": [
       "step              0\n",
       "type              0\n",
       "amount            0\n",
       "nameOrig          0\n",
       "oldbalanceOrg     0\n",
       "newbalanceOrig    0\n",
       "nameDest          0\n",
       "oldbalanceDest    0\n",
       "newbalanceDest    0\n",
       "isFraud           0\n",
       "isFlaggedFraud    0\n",
       "dtype: int64"
      ]
     },
     "execution_count": 54,
     "metadata": {},
     "output_type": "execute_result"
    }
   ],
   "source": [
    "df_raw.isnull().sum()"
   ]
  },
  {
   "cell_type": "code",
   "execution_count": 55,
   "id": "e28224bb",
   "metadata": {
    "ExecuteTime": {
     "end_time": "2023-04-28T19:35:17.220123Z",
     "start_time": "2023-04-28T19:35:17.191227Z"
    },
    "hidden": true
   },
   "outputs": [
    {
     "data": {
      "text/html": [
       "<div>\n",
       "<style scoped>\n",
       "    .dataframe tbody tr th:only-of-type {\n",
       "        vertical-align: middle;\n",
       "    }\n",
       "\n",
       "    .dataframe tbody tr th {\n",
       "        vertical-align: top;\n",
       "    }\n",
       "\n",
       "    .dataframe thead th {\n",
       "        text-align: right;\n",
       "    }\n",
       "</style>\n",
       "<table border=\"1\" class=\"dataframe\">\n",
       "  <thead>\n",
       "    <tr style=\"text-align: right;\">\n",
       "      <th></th>\n",
       "      <th>step</th>\n",
       "      <th>type</th>\n",
       "      <th>amount</th>\n",
       "      <th>nameOrig</th>\n",
       "      <th>oldbalanceOrg</th>\n",
       "      <th>newbalanceOrig</th>\n",
       "      <th>nameDest</th>\n",
       "      <th>oldbalanceDest</th>\n",
       "      <th>newbalanceDest</th>\n",
       "      <th>isFraud</th>\n",
       "      <th>isFlaggedFraud</th>\n",
       "    </tr>\n",
       "  </thead>\n",
       "  <tbody>\n",
       "    <tr>\n",
       "      <th>0</th>\n",
       "      <td>1</td>\n",
       "      <td>2</td>\n",
       "      <td>9839.64</td>\n",
       "      <td>C1231006815</td>\n",
       "      <td>170136.0</td>\n",
       "      <td>160296.36</td>\n",
       "      <td>M1979787155</td>\n",
       "      <td>0.0</td>\n",
       "      <td>0.0</td>\n",
       "      <td>No Fraud</td>\n",
       "      <td>0</td>\n",
       "    </tr>\n",
       "    <tr>\n",
       "      <th>1</th>\n",
       "      <td>1</td>\n",
       "      <td>2</td>\n",
       "      <td>1864.28</td>\n",
       "      <td>C1666544295</td>\n",
       "      <td>21249.0</td>\n",
       "      <td>19384.72</td>\n",
       "      <td>M2044282225</td>\n",
       "      <td>0.0</td>\n",
       "      <td>0.0</td>\n",
       "      <td>No Fraud</td>\n",
       "      <td>0</td>\n",
       "    </tr>\n",
       "    <tr>\n",
       "      <th>2</th>\n",
       "      <td>1</td>\n",
       "      <td>4</td>\n",
       "      <td>181.00</td>\n",
       "      <td>C1305486145</td>\n",
       "      <td>181.0</td>\n",
       "      <td>0.00</td>\n",
       "      <td>C553264065</td>\n",
       "      <td>0.0</td>\n",
       "      <td>0.0</td>\n",
       "      <td>Fraud</td>\n",
       "      <td>0</td>\n",
       "    </tr>\n",
       "    <tr>\n",
       "      <th>3</th>\n",
       "      <td>1</td>\n",
       "      <td>1</td>\n",
       "      <td>181.00</td>\n",
       "      <td>C840083671</td>\n",
       "      <td>181.0</td>\n",
       "      <td>0.00</td>\n",
       "      <td>C38997010</td>\n",
       "      <td>21182.0</td>\n",
       "      <td>0.0</td>\n",
       "      <td>Fraud</td>\n",
       "      <td>0</td>\n",
       "    </tr>\n",
       "    <tr>\n",
       "      <th>4</th>\n",
       "      <td>1</td>\n",
       "      <td>2</td>\n",
       "      <td>11668.14</td>\n",
       "      <td>C2048537720</td>\n",
       "      <td>41554.0</td>\n",
       "      <td>29885.86</td>\n",
       "      <td>M1230701703</td>\n",
       "      <td>0.0</td>\n",
       "      <td>0.0</td>\n",
       "      <td>No Fraud</td>\n",
       "      <td>0</td>\n",
       "    </tr>\n",
       "  </tbody>\n",
       "</table>\n",
       "</div>"
      ],
      "text/plain": [
       "   step  type    amount     nameOrig  oldbalanceOrg  newbalanceOrig  \\\n",
       "0     1     2   9839.64  C1231006815       170136.0       160296.36   \n",
       "1     1     2   1864.28  C1666544295        21249.0        19384.72   \n",
       "2     1     4    181.00  C1305486145          181.0            0.00   \n",
       "3     1     1    181.00   C840083671          181.0            0.00   \n",
       "4     1     2  11668.14  C2048537720        41554.0        29885.86   \n",
       "\n",
       "      nameDest  oldbalanceDest  newbalanceDest   isFraud  isFlaggedFraud  \n",
       "0  M1979787155             0.0             0.0  No Fraud               0  \n",
       "1  M2044282225             0.0             0.0  No Fraud               0  \n",
       "2   C553264065             0.0             0.0     Fraud               0  \n",
       "3    C38997010         21182.0             0.0     Fraud               0  \n",
       "4  M1230701703             0.0             0.0  No Fraud               0  "
      ]
     },
     "execution_count": 55,
     "metadata": {},
     "output_type": "execute_result"
    }
   ],
   "source": [
    "df_raw.head()"
   ]
  },
  {
   "cell_type": "markdown",
   "id": "9c33644e",
   "metadata": {},
   "source": [
    "# PASSO 06 Feature Selection"
   ]
  },
  {
   "cell_type": "markdown",
   "id": "5927ff8d",
   "metadata": {
    "heading_collapsed": true
   },
   "source": [
    "# PASSO 07 Machine Learning Modelling"
   ]
  },
  {
   "cell_type": "code",
   "execution_count": 56,
   "id": "85786092",
   "metadata": {
    "ExecuteTime": {
     "end_time": "2023-04-28T19:35:18.908399Z",
     "start_time": "2023-04-28T19:35:18.902183Z"
    },
    "hidden": true
   },
   "outputs": [],
   "source": [
    "from sklearn.model_selection import train_test_split"
   ]
  },
  {
   "cell_type": "code",
   "execution_count": 57,
   "id": "1663a9b0",
   "metadata": {
    "ExecuteTime": {
     "end_time": "2023-04-28T19:35:19.309891Z",
     "start_time": "2023-04-28T19:35:19.300731Z"
    },
    "hidden": true
   },
   "outputs": [
    {
     "data": {
      "text/plain": [
       "Index(['step', 'type', 'amount', 'nameOrig', 'oldbalanceOrg', 'newbalanceOrig',\n",
       "       'nameDest', 'oldbalanceDest', 'newbalanceDest', 'isFraud',\n",
       "       'isFlaggedFraud'],\n",
       "      dtype='object')"
      ]
     },
     "execution_count": 57,
     "metadata": {},
     "output_type": "execute_result"
    }
   ],
   "source": [
    "df_raw.columns"
   ]
  },
  {
   "cell_type": "code",
   "execution_count": 58,
   "id": "08637cdc",
   "metadata": {
    "ExecuteTime": {
     "end_time": "2023-04-28T19:35:20.376024Z",
     "start_time": "2023-04-28T19:35:19.681329Z"
    },
    "hidden": true
   },
   "outputs": [],
   "source": [
    "x = np.array(df_raw[['type', 'amount', 'oldbalanceOrg', 'newbalanceOrig']])\n",
    "y = np.array(df_raw['isFraud'])"
   ]
  },
  {
   "cell_type": "code",
   "execution_count": 59,
   "id": "77a62bcc",
   "metadata": {
    "ExecuteTime": {
     "end_time": "2023-04-28T19:35:45.274274Z",
     "start_time": "2023-04-28T19:35:20.377583Z"
    },
    "hidden": true
   },
   "outputs": [
    {
     "data": {
      "text/plain": [
       "0.9997296711103287"
      ]
     },
     "execution_count": 59,
     "metadata": {},
     "output_type": "execute_result"
    }
   ],
   "source": [
    "from sklearn.tree import DecisionTreeClassifier\n",
    "xtrain, xtest , ytrain, ytest = train_test_split(x,y,test_size=0.10,random_state=42)\n",
    "model = DecisionTreeClassifier()\n",
    "model.fit(xtrain,ytrain)\n",
    "model.score(xtest,ytest)"
   ]
  },
  {
   "cell_type": "code",
   "execution_count": 64,
   "id": "e3e5d960",
   "metadata": {
    "ExecuteTime": {
     "end_time": "2023-04-28T19:41:09.822179Z",
     "start_time": "2023-04-28T19:41:09.811475Z"
    },
    "hidden": true
   },
   "outputs": [
    {
     "name": "stdout",
     "output_type": "stream",
     "text": [
      "['No Fraud']\n"
     ]
    }
   ],
   "source": [
    "features = np.array([[4, 500.60, 300.60, 1.0]])\n",
    "print(model.predict(features))"
   ]
  },
  {
   "cell_type": "markdown",
   "id": "9290ea5a",
   "metadata": {},
   "source": [
    "# PASSO 08 Hyperparameter Fine tuning"
   ]
  },
  {
   "cell_type": "markdown",
   "id": "30ec3002",
   "metadata": {},
   "source": [
    "# PASSO 09 Error Translate and Interpretation"
   ]
  },
  {
   "cell_type": "markdown",
   "id": "b4e6c2cd",
   "metadata": {},
   "source": [
    "# PASSO 10 Deploy Model to Production"
   ]
  }
 ],
 "metadata": {
  "kernelspec": {
   "display_name": "Python 3 (ipykernel)",
   "language": "python",
   "name": "python3"
  },
  "language_info": {
   "codemirror_mode": {
    "name": "ipython",
    "version": 3
   },
   "file_extension": ".py",
   "mimetype": "text/x-python",
   "name": "python",
   "nbconvert_exporter": "python",
   "pygments_lexer": "ipython3",
   "version": "3.10.12"
  }
 },
 "nbformat": 4,
 "nbformat_minor": 5
}
